{
  "cells": [
    {
      "cell_type": "markdown",
      "metadata": {},
      "source": [
        "## Question 1\n\n",
        "Which of the following Python objects is mutable?\n\n",
        "**Choices:**\n",
        "- A: Tuple\n",
        "- B: String\n",
        "- C: List\n",
        "- D: Integer\n"
      ]
    },
    {
      "cell_type": "markdown",
      "metadata": {},
      "source": [
        "**Correct Answer:** C\n\n",
        "**Explanation:** Lists can be modified after creation (add, remove, change elements), whereas tuples, strings, and integers are immutable.\n"
      ]
    },    
    {
      "cell_type": "markdown",
      "metadata": {},
      "source": [
        "## Question 2\n\n",
        "Which Python data structure is unordered and stores unique elements?\n\n",
        "**Choices:**\n",
        "- A: List\n",
        "- B: Dictionary\n",
        "- C: Set\n",
        "- D: Tuple\n"
      ]
    },
    {
      "cell_type": "markdown",
      "metadata": {},
      "source": [
        "**Correct Answer:** C\n\n",
        "**Explanation:** Sets are unordered collections of unique elements. Lists and tuples allow duplicates; dictionaries store key-value pairs.\n"
      ]
    },    
    {
      "cell_type": "markdown",
      "metadata": {},
      "source": [
        "## Question 3\n\n",
        "What will the following code print?\n\nfor i in range(3):\n    print(i, end=\" \")\n\n",
        "**Choices:**\n",
        "- A: 0 1 2\n",
        "- B: 1 2 3\n",
        "- C: 0 1 2 3\n",
        "- D: 1 2\n"
      ]
    },
    {
      "cell_type": "markdown",
      "metadata": {},
      "source": [
        "**Correct Answer:** A\n\n",
        "**Explanation:** range(3) generates numbers 0, 1, 2. The end=\" \" prints them on the same line separated by spaces.\n"
      ]
    },    
    {
      "cell_type": "markdown",
      "metadata": {},
      "source": [
        "## Question 4\n\n",
        "What does the following code output if x = 7?\n\nif x % 2 == 0:\n    print(\"Even\")\nelse:\n    print(\"Odd\")\n\n",
        "**Choices:**\n",
        "- A: Even\n",
        "- B: Odd\n",
        "- C: 7\n",
        "- D: Error\n"
      ]
    },
    {
      "cell_type": "markdown",
      "metadata": {},
      "source": [
        "**Correct Answer:** B\n\n",
        "**Explanation:** 7 % 2 equals 1, so the else branch executes.\n"
      ]
    },
    {
      "cell_type": "markdown",
      "metadata": {},
      "source": [
        "## Question 5\n\n",
        "Which of the following defines a Python function correctly?\n\n",
        "**Choices:**\n",
        "- A: def my_func[]:\n",
        "- B: def my_func():\n",
        "- C: function my_func():\n",
        "- D: func my_func():\n"
      ]
    },
    {
      "cell_type": "markdown",
      "metadata": {},
      "source": [
        "**Correct Answer:** B\n\n",
        "**Explanation:** In Python, functions are defined with the def keyword followed by parentheses, even if no parameters are passed.\n"
      ]
    },    
    {
      "cell_type": "markdown",
      "metadata": {},
      "source": [
        "## Question 6\n\n",
        "In our use of GitHub how many different repos are you actually using?\n\n",
        "**Choices:**\n",
        "- A: 1\n",
        "- B: 4\n",
        "- C: 3\n",
        "- D: 2\n"
      ]
    },
    {
      "cell_type": "markdown",
      "metadata": {},
      "source": [
        "**Correct Answer:** D\n\n",
        "**Explanation:** In GitHub you use your repo and the class repo. Codespace is an IDE not a Repo.\n"
      ]
    },    
    {
      "cell_type": "markdown",
      "metadata": {},
      "source": [
        "## Question 7\n\n",
        "In Python, what is the correct use of (), {}, and []?\n\n",
        "**Choices:**\n",
        "- A: () defines a tuple, {} defines a dictionary, and [] defines a list.\n",
        "- B: () defines a list, {} defines a tuple, and [] defines a set.\n",
        "- C: () defines a dictionary, {} defines a list, and [] defines a tuple.\n",
        "- D: () defines a set, {} defines a tuple, and [] defines a dictionary.\n"
      ]
    },
    {
      "cell_type": "markdown",
      "metadata": {},
      "source": [
        "**Correct Answer:** A\n\n",
        "**Explanation:** () \u2192 tuple (ordered, immutable sequence), {} \u2192 dictionary (key-value pairs), [] \u2192 list (ordered, mutable sequence)\n"
      ]
    },    
    {
      "cell_type": "markdown",
      "metadata": {},
      "source": [
        "## Question 8\n\n",
        "In GitHub your Codingspace is a REPO\n\n",
        "**Choices:**\n",
        "- A: True\n",
        "- B: False\n"
      ]
    },
    {
      "cell_type": "markdown",
      "metadata": {},
      "source": [
        "**Correct Answer:**B \n\n",
        "**Explanation:** () \u2192 Codespace is an IDE it contains a copy of your repo but is not a repo itself\n"
      ]
    },    
    {
      "cell_type": "markdown",
      "metadata": {},
      "source": [
        "## Question 9\n\n",
        "On GitHub what is the difference between commit and sync?\n\n",
        "**Choices:**\n",
        "- A: commit and sync are not used in Github\n",
        "- B: commit is done within codespace and saves a version your files\nsync copies your codespace files to your Repo\n",
        "- C: commit is done within codespace and saves a version your files\nsync copies your codespace files to the class repo maintained by the teacher\n",
        "- D: commit saves your codespace to your repo\nsync synchronizes your repo with the class repo\n"
      ]
    },
    {
      "cell_type": "markdown",
      "metadata": {},
      "source": [
        "**Correct Answer:** B\n\n",
        "**Explanation:** () \u2192 commit is a git command that saves each version of your file. sync pushes that file to your repo\n"
      ]
    },    
    {
      "cell_type": "markdown",
      "metadata": {},
      "source": [
        "## Question 10\n\n",
        "Which of the following best describes the difference between a try block and an if block in Python?\n\n",
        "**Choices:**\n",
        "- A: A try block checks if a condition is True or False, while an if block catches errors that occur during execution.\n",
        "- B: A try block is used to handle exceptions that may occur during code execution, while an if block is used to execute code based on a condition.\n",
        "- C: A try block always runs after an if block, and they serve the same purpose.\n",
        "- D: Both try and if blocks are only used for loops.\n"
      ]
    },
    {
      "cell_type": "markdown",
      "metadata": {},
      "source": [
        "**Correct Answer:** B\n\n",
         "**Explanation:** () \u2192 A try block is used to handle runtime errors that could crash your program, if blocks are used for branching code execution\n"
      ]
    }    
  ],
  "metadata": {
    "kernelspec": {
      "display_name": "Python 3",
      "language": "python",
      "name": "python3"
    },
    "language_info": {
      "name": "python",
      "version": "3.10.18",
      "mimetype": "text/x-python",
      "codemirror_mode": {
        "name": "ipython",
        "version": 3
      },
      "pygments_lexer": "ipython3",
      "file_extension": ".py"
    }
  },
  "nbformat": 4,
  "nbformat_minor": 2
}