{
 "cells": [
  {
   "cell_type": "markdown",
   "id": "07e8d9b3",
   "metadata": {},
   "source": [
    "# Question 13 - Conditional Logic\n",
    "Ask the user for a number and print whether it is positive, negative, or zero."
   ]
  },
  {
   "cell_type": "code",
   "execution_count": 1,
   "id": "b955e21f",
   "metadata": {},
   "outputs": [
    {
     "name": "stdout",
     "output_type": "stream",
     "text": [
      "positive\n"
     ]
    }
   ],
   "source": [
    "# Enter your code here\n",
    "txt= 'please enter a number: '\n",
    "while True:\n",
    "    try:\n",
    "        num = int(input(txt))\n",
    "        break\n",
    "    except ValueError: \n",
    "        txtm = ' a number for my kingdom: '\n",
    "\n",
    "if num > 0: print('positive')\n",
    "elif num < 0: print('negative')\n",
    "else: print('zero')\n",
    "\n",
    "\n",
    "\n"
   ]
  },
  {
   "cell_type": "markdown",
   "id": "d5a9cf97",
   "metadata": {},
   "source": [
    "# Question 14 - Even/Odd Check\n",
    "Ask the user for a number and print if it is even or odd."
   ]
  },
  {
   "cell_type": "code",
   "execution_count": 2,
   "id": "50b1c63f",
   "metadata": {},
   "outputs": [
    {
     "name": "stdout",
     "output_type": "stream",
     "text": [
      "odd\n"
     ]
    }
   ],
   "source": [
    "# Enter your code here\n",
    "\n",
    "txt= 'please enter a number: '\n",
    "while True:\n",
    "    try:\n",
    "        num = int(input(txt))\n",
    "        break\n",
    "    except ValueError: \n",
    "        txtm = ' a number for my kingdom: '\n",
    "\n",
    "if num % 2 == 0: \n",
    "    print('even')    \n",
    "else: print('odd')"
   ]
  },
  {
   "cell_type": "markdown",
   "id": "d75d6d70",
   "metadata": {},
   "source": [
    "# Question 15 - Boolean Operators\n",
    "Ask the user for two numbers and check if both are positive, either is positive, or none is positive."
   ]
  },
  {
   "cell_type": "code",
   "execution_count": null,
   "id": "a06dbda5",
   "metadata": {},
   "outputs": [],
   "source": [
    "# Enter your code here\n",
    "txt= 'please enter a number: '\n",
    "while True:\n",
    "    try:\n",
    "        num1 = int(input(txt))\n",
    "        break\n",
    "    except ValueError: \n",
    "        txtm = ' a number for my kingdom: '\n",
    "\n",
    "txt= 'please enter a number: '\n",
    "while True:\n",
    "    try:\n",
    "        num2 = int(input(txt))\n",
    "        break\n",
    "    except ValueError: \n",
    "        txtm = ' a number for my kingdom: '\n",
    "\n",
    "if num1 > 0 and num2 > 0:print('both pos') \n",
    "elif num1 > 0 or num2 > 0:print('one positive')\n",
    "else: print('neither pos')\n"
   ]
  },
  {
   "cell_type": "markdown",
   "id": "b145d68c",
   "metadata": {},
   "source": [
    "# Question 16 - For Loop\n",
    "Print all numbers from 1 to 20, skipping multiples of 3."
   ]
  },
  {
   "cell_type": "code",
   "execution_count": 1,
   "id": "8859f8b8",
   "metadata": {},
   "outputs": [
    {
     "name": "stdout",
     "output_type": "stream",
     "text": [
      "1\n",
      "2\n",
      "4\n",
      "5\n",
      "7\n",
      "8\n",
      "10\n",
      "11\n",
      "13\n",
      "14\n",
      "16\n",
      "17\n",
      "19\n",
      "20\n"
     ]
    }
   ],
   "source": [
    "# Enter your code here\n",
    "for idx in range(1, 21):\n",
    "    if idx % 3 != 0: print(idx)\n",
    "\n"
   ]
  },
  {
   "cell_type": "code",
   "execution_count": null,
   "id": "04f41cb4",
   "metadata": {},
   "outputs": [],
   "source": [
    "# Question 17 - While Loop\n",
    "# Ask the user to guess a secret number (hardcoded) until they get it right."
   ]
  },
  {
   "cell_type": "code",
   "execution_count": 3,
   "id": "2be510dc",
   "metadata": {},
   "outputs": [
    {
     "name": "stdout",
     "output_type": "stream",
     "text": [
      "That's right, good guess!\n"
     ]
    }
   ],
   "source": [
    "# Enter your code here\n",
    "\n",
    "secret = 3\n",
    "num = -1\n",
    "while True:\n",
    "    txt='please enter a number (1 - 10): '\n",
    "    while True:\n",
    "        try:\n",
    "            num = int(input(txt))\n",
    "            if num < 1 or num > 10: raise Exception\n",
    "            break\n",
    "        except ValueError:\n",
    "            txt='a number'\n",
    "        except Exception:\n",
    "            txt='between 1 and 10'\n",
    "\n",
    "    if secret == num:\n",
    "        print(\"That's right, good guess!\")\n",
    "        break\n"
   ]
  },
  {
   "cell_type": "markdown",
   "id": "4bdfcb3e",
   "metadata": {},
   "source": [
    "# Question 18 - Break / Continue\n",
    "Print numbers 1-10 but stop printing when you reach 7 and skip 3."
   ]
  },
  {
   "cell_type": "code",
   "execution_count": 4,
   "id": "b1beecee",
   "metadata": {},
   "outputs": [
    {
     "name": "stdout",
     "output_type": "stream",
     "text": [
      "1\n",
      "2\n",
      "4\n",
      "5\n",
      "6\n",
      "7\n"
     ]
    }
   ],
   "source": [
    "# Enter your code here\n",
    "for idx in range(1, 11):\n",
    "    if idx == 3: continue\n",
    "    elif idx > 7: break\n",
    "    print(idx)\n",
    "\n"
   ]
  },
  {
   "cell_type": "markdown",
   "id": "55d6425e",
   "metadata": {},
   "source": [
    "# Question 19 - Function Definition\n",
    "Write a function square(x) that returns the square of a number and test it."
   ]
  },
  {
   "cell_type": "code",
   "execution_count": 6,
   "id": "ae5e7912",
   "metadata": {},
   "outputs": [
    {
     "name": "stdout",
     "output_type": "stream",
     "text": [
      "625\n"
     ]
    }
   ],
   "source": [
    "# Enter your code here\n",
    "def square(x):\n",
    "    return x*x\n",
    "\n",
    "sqr_x = square(25)\n",
    "print(sqr_x)\n"
   ]
  },
  {
   "cell_type": "markdown",
   "id": "5a1e7acb",
   "metadata": {},
   "source": [
    "# Question 20 - Function with Mutable Argument\n",
    "Write a function add_item(lst, item) that appends item to lst and observe the effect on the original list."
   ]
  },
  {
   "cell_type": "code",
   "execution_count": 8,
   "id": "328b87f2",
   "metadata": {},
   "outputs": [
    {
     "name": "stdout",
     "output_type": "stream",
     "text": [
      "['pies', 'taste', 'good']\n",
      "['pies', 'taste', 'good', 'but ice cream is better']\n",
      "['pies', 'taste', 'good', 'but ice cream is better']\n"
     ]
    }
   ],
   "source": [
    "# Enter your code here\n",
    "txt = 'pies taste good'\n",
    "myList = txt.split()\n",
    "print(myList)\n",
    "\n",
    "def myFunc(someList):\n",
    "    someList.append('but ice cream is better')\n",
    "    print(someList)\n",
    "\n",
    "myFunc(myList)\n",
    "print(myList)"
   ]
  },
  {
   "cell_type": "markdown",
   "id": "9b4a48c3",
   "metadata": {},
   "source": [
    "# Question 21 - Comments / Documentation\n",
    "Write a function greet(name) with single-line and multi-line comments explaining each step."
   ]
  },
  {
   "cell_type": "code",
   "execution_count": 11,
   "id": "8617f09d",
   "metadata": {},
   "outputs": [
    {
     "name": "stdout",
     "output_type": "stream",
     "text": [
      "Hello, Bob!\n"
     ]
    }
   ],
   "source": [
    "# Enter your code here\n",
    "'''\n",
    "This function takes a user name as input\n",
    "and prints out a glorious greeting\n",
    "'''\n",
    "\n",
    "#function header\n",
    "def greeting():\n",
    "    # get input from keyboard\n",
    "    name = input('Please enter your first name: ')\n",
    "    # print out mgreeting with f-string\n",
    "    print(f'Hello, {name}!')\n",
    "# call function\n",
    "greeting()"
   ]
  },
  {
   "cell_type": "markdown",
   "id": "017b83d4",
   "metadata": {},
   "source": [
    "# Question 22 - Combining Tools\n",
    "Ask the user to enter 5 names. Store them in a list, capitalize each name, sort the list, and print it."
   ]
  },
  {
   "cell_type": "code",
   "execution_count": null,
   "id": "26939624",
   "metadata": {},
   "outputs": [
    {
     "name": "stdout",
     "output_type": "stream",
     "text": [
      "['Bob', 'David', 'Nancy', 'Sarah', 'Tommy']\n"
     ]
    }
   ],
   "source": [
    "# Enter your code here\n",
    "names = []\n",
    "for idx in range(5):\n",
    "    name = input('Please enter your name: ').capitalize()\n",
    "    names.append(name)\n",
    "\n",
    "names.sort()\n",
    "print(names)\n"
   ]
  }
 ],
 "metadata": {
  "kernelspec": {
   "display_name": "venv",
   "language": "python",
   "name": "python3"
  },
  "language_info": {
   "codemirror_mode": {
    "name": "ipython",
    "version": 3
   },
   "file_extension": ".py",
   "mimetype": "text/x-python",
   "name": "python",
   "nbconvert_exporter": "python",
   "pygments_lexer": "ipython3",
   "version": "3.10.18"
  }
 },
 "nbformat": 4,
 "nbformat_minor": 5
}
