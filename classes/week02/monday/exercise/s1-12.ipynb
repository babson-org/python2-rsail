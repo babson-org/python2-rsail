{
 "cells": [
  {"cell_type": "markdown", "metadata": {}, "source": ["# Starter Python Notebook\n", "This notebook contains 12 practice questions with sample solutions. Each solution includes comments explaining the code."]},

  {"cell_type": "markdown", "metadata": {}, "source": ["## Question 1 - Make Tea Function"]},
  {"cell_type": "code", "metadata": {}, "source": ["# Define the steps to make tea\n", "steps = [\n", "    'get teapot with water',\n", "    'get cup',\n", "    'get teabag',\n", "    'turn stove on',\n", "    'place teapot on stove',\n", "    'boil water',\n", "    'pour water into cup',\n", "    'add teabag',\n", "    'dunk 37 times',\n", "    'enjoy tea'\n", "]\n", "\n", "# Function to print each step\n", "def make_tea(entries):\n", "    for s in entries:\n", "        print(s)\n", "\n", "# Call the function\n", "make_tea(steps)"]},

  {"cell_type": "markdown", "metadata": {}, "source": ["## Question 2 - Next Numbers in a List"]},
  {"cell_type": "code", "metadata": {}, "source": ["pattern = [2, 4, 6, 8, 10]\n", "# Calculate next three numbers by continuing the pattern\n", "for _ in range(3):\n", "    next_num = pattern[-1] + 2\n", "    pattern.append(next_num)\n", "    print(next_num)"]},

  {"cell_type": "markdown", "metadata": {}, "source": ["## Question 3 - Greeting User"]},
  {"cell_type": "code", "metadata": {}, "source": ["# Ask for first and last name\n", "fname = input('Please enter your first name: ')\n", "lname = input('Please enter your last name: ')\n", "# Print greeting using f-string\n", "print(f'Hello, {fname} {lname}!')"]},

  {"cell_type": "markdown", "metadata": {}, "source": ["## Question 4 - Python Version and Platform"]},
  {"cell_type": "code", "metadata": {}, "source": ["import sys\n", "import platform\n", "# Print Python version and platform\n", "print('Python Version:', sys.version)\n", "print('Platform:', platform.system(), platform.release())"]},

  {"cell_type": "markdown", "metadata": {}, "source": ["## Question 5 - Arithmetic Operations"]},
  {"cell_type": "code", "metadata": {}, "source": ["x = float(input('Enter first number: '))\n", "y = float(input('Enter second number: '))\n", "# Perform calculations\n", "print('Sum:', x + y)\n", "print('Difference:', x - y)\n", "print('Product:', x * y)\n", "print('Division:', x / y)\n", "print('Floor Division:', x // y)"]},

  {"cell_type": "markdown", "metadata": {}, "source": ["## Question 6 - Text Transformations"]},
  {"cell_type": "code", "metadata": {}, "source": ["txt = input('Enter a sentence: ')\n", "# Print transformations\n", "print('Uppercase:', txt.upper())\n", "print('Lowercase:', txt.lower())\n", "print('Capitalized:', txt.capitalize())\n", "print('Split into words:', txt.split())"]},

  {"cell_type": "markdown", "metadata": {}, "source": ["## Question 7 - Operator Precedence"]},
  {"cell_type": "code", "metadata": {}, "source": ["# Without parentheses\n", "result1 = 10 + 2 * 5 / 2 - 2 ** 3 ** 2\n", "# With parentheses for clarity\n", "result2 = 10 + (2 * 5 / 2) - 2 ** (3 ** 2)\n", "result3 = (10 + (2 * 5 / 2) - (2 ** 3) ** 2)\n", "print('Without parentheses:', result1)\n", "print('With parentheses (nested):', result2)\n", "print('With parentheses ((2**3)**2):', result3)"]},

  {"cell_type": "markdown", "metadata": {}, "source": ["## Question 8 - Modify List"]},
  {"cell_type": "code", "metadata": {}, "source": ["favorites = ['ice cream', 'pizza', 'cake']\n", "# Replace second item\n", "favorites[1] = 'blueberries'\n", "print('Updated favorites:', favorites)"]},

  {"cell_type": "markdown", "metadata": {}, "source": ["## Question 9 - Tuple Immutability"]},
  {"cell_type": "code", "metadata": {}, "source": ["numbers = (1, 2, 3, 4)\n", "# Trying to modify a tuple will cause an error\n", "try:\n", "    numbers[0] = 5\n", "except TypeError:\n", "    print('Tuples are immutable and cannot be changed')\n", "print('Tuple remains:', numbers)"]},

  {"cell_type": "markdown", "metadata": {}, "source": ["## Question 10 - Dictionary and List"]},
  {"cell_type": "code", "metadata": {}, "source": ["from pprint import pprint\n", "student = {'name': 'Bob', 'age': 25}\n", "# Update age\n", "student['age'] = 37\n", "# Add favorite numbers\n", "fav_nums = [7, 666, 42]\n", "student['favorites'] = fav_nums\n", "print('Student dictionary:')\n", "pprint(student)"]},

  {"cell_type": "markdown", "metadata": {}, "source": ["## Question 11 - Save and Read Quote"]},
  {"cell_type": "code", "metadata": {}, "source": ["quote = input('Enter your favorite quote: ')\n", "# Save to file\n", "with open('quote.txt', 'w') as f:\n", "    f.write(quote)\n", "# Read back and print\n", "with open('quote.txt', 'r') as f:\n", "    saved_quote = f.read()\n", "print('Your quote:', saved_quote)"]},

  {"cell_type": "markdown", "metadata": {}, "source": ["## Question 12 - Sum and Average"]},
  {"cell_type": "code", "metadata": {}, "source": ["numbers = []\n", "for i in range(5):\n", "    num = int(input(f'Enter number {i+1}: '))\n", "    numbers.append(num)\n", "total = sum(numbers)\n", "average = total / len(numbers)\n", "print('Numbers:', numbers)\n", "print('Total:', total)\n", "print('Average:', average)"]}
 ],
 "metadata": {"kernelspec": {"display_name": "Python 3", "language": "python", "name": "python3"}, "language_info": {"name": "python", "version": "3.10"}},
 "nbformat": 4,
 "nbformat_minor": 5
}
